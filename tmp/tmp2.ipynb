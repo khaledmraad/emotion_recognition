{
 "cells": [
  {
   "cell_type": "code",
   "execution_count": 11,
   "metadata": {},
   "outputs": [
    {
     "name": "stdout",
     "output_type": "stream",
     "text": [
      "2583 3900 3\n"
     ]
    }
   ],
   "source": [
    "import cv2\n",
    "\n",
    "#load and preprocess images \n",
    "\n",
    "img=cv2.imread(\"image.png\")\n",
    "height,width,channels= img.shape\n",
    "print(height,width,channels)"
   ]
  },
  {
   "cell_type": "code",
   "execution_count": 12,
   "metadata": {},
   "outputs": [],
   "source": [
    "import keras\n",
    "from keras import layers \n",
    "\n",
    "\n",
    "#create the sequetial model \n",
    "model=keras.Sequential()\n",
    "model.add(layers.Input(shape=(height,width,channels)))\n",
    "model.add(layers.Dense(32))\n",
    "model.add(layers.Dense(16))\n",
    "model.add(layers.Dense(2))\n",
    "\n"
   ]
  },
  {
   "cell_type": "code",
   "execution_count": 14,
   "metadata": {},
   "outputs": [
    {
     "name": "stdout",
     "output_type": "stream",
     "text": [
      "tf.Tensor(\n",
      "[[[[ 138.13931    -86.89013  ]\n",
      "   [ 128.7275     -80.55988  ]\n",
      "   [ 135.45024    -85.08149  ]\n",
      "   ...\n",
      "   [ 193.93442   -130.15225  ]\n",
      "   [ 185.86716   -124.72632  ]\n",
      "   [ 179.39236   -119.946915 ]]\n",
      "\n",
      "  [[ 148.8957     -94.12473  ]\n",
      "   [ 136.79478    -85.9858   ]\n",
      "   [ 139.0063     -87.0963   ]\n",
      "   ...\n",
      "   [ 194.18239   -129.8945   ]\n",
      "   [ 183.42601   -122.6599   ]\n",
      "   [ 182.08147   -121.75561  ]]\n",
      "\n",
      "  [[ 139.0063     -87.0963   ]\n",
      "   [ 140.35085    -88.00062  ]\n",
      "   [ 140.35085    -88.00062  ]\n",
      "   ...\n",
      "   [ 205.77747   -137.38211  ]\n",
      "   [ 192.33199   -128.33887  ]\n",
      "   [ 196.36565   -131.05183  ]]\n",
      "\n",
      "  ...\n",
      "\n",
      "  [[  18.76709    -12.7542515]\n",
      "   [  22.800732   -15.467224 ]\n",
      "   [  22.800732   -15.467224 ]\n",
      "   ...\n",
      "   [ 202.56277   -129.64973  ]\n",
      "   [ 202.24829   -128.83441  ]\n",
      "   [ 195.52554   -124.31278  ]]\n",
      "\n",
      "  [[  18.76709    -12.7542515]\n",
      "   [  25.48983    -17.275873 ]\n",
      "   [  21.456182   -14.562899 ]\n",
      "   ...\n",
      "   [ 202.59105   -129.60292  ]\n",
      "   [ 201.24652   -128.69858  ]\n",
      "   [ 201.21822   -128.74542  ]]\n",
      "\n",
      "  [[  20.111637   -13.658573 ]\n",
      "   [  37.590767   -25.414803 ]\n",
      "   [  25.967394   -17.974041 ]\n",
      "   ...\n",
      "   [ 206.62468   -132.31586  ]\n",
      "   [ 199.90193   -127.79428  ]\n",
      "   [ 202.59105   -129.60292  ]]]], shape=(1, 2583, 3900, 2), dtype=float32)\n"
     ]
    }
   ],
   "source": [
    "import numpy as np\n",
    "\n",
    "preprocessed_img=np.array([img])\n",
    "result=model(preprocessed_img)\n",
    "print(result)"
   ]
  }
 ],
 "metadata": {
  "kernelspec": {
   "display_name": "venv",
   "language": "python",
   "name": "python3"
  },
  "language_info": {
   "codemirror_mode": {
    "name": "ipython",
    "version": 3
   },
   "file_extension": ".py",
   "mimetype": "text/x-python",
   "name": "python",
   "nbconvert_exporter": "python",
   "pygments_lexer": "ipython3",
   "version": "3.12.7"
  }
 },
 "nbformat": 4,
 "nbformat_minor": 2
}
